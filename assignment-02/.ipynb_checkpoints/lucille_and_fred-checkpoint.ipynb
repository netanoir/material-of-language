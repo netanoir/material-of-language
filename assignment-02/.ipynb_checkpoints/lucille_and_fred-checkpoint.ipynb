{
 "cells": [
  {
   "cell_type": "markdown",
   "metadata": {},
   "source": [
    "# what if lucille clifton and fred moten co-wrote a poem?\n",
    "here i am experimenting in crafting a python web application which generates a visual poem from a combination of two or more poems from two of my favorite Black poets."
   ]
  },
  {
   "cell_type": "markdown",
   "metadata": {},
   "source": [
    "## dependencies\n",
    "i'll need to use the random library to randomly combine the poems together."
   ]
  },
  {
   "cell_type": "code",
   "execution_count": 1,
   "metadata": {},
   "outputs": [],
   "source": [
    "import random\n",
    "import math"
   ]
  },
  {
   "cell_type": "markdown",
   "metadata": {},
   "source": [
    "## source texts\n",
    "loading text files which include the poems sourced from the poetry foundation."
   ]
  },
  {
   "cell_type": "code",
   "execution_count": 2,
   "metadata": {},
   "outputs": [
    {
     "name": "stdout",
     "output_type": "stream",
     "text": [
      " all down on perdido street, from san juan\n",
      "\n",
      "to inglewood, up on that bridge, up where the\n",
      "soul trees grow by soul, dance to fantastic\n",
      "information while we kick off the modern world.\n",
      "\n",
      "the whistle sounded good like a kiss on a train.\n",
      "\n",
      "a track below us in the cabinet in the tunnel\n",
      "\n",
      "under the water. a steady boom to lift us out.\n",
      "nobody lived, not without digging, but he wore\n",
      "\n",
      "\n",
      "that ivory waistcoat and we loved to see that shit.\n",
      "\n",
      "I love my people too much to be around them\n",
      "at school. I slip underneath the cinema tree, move myself\n",
      "in half, dance to fray, write a paper on the salve trade.\n",
      "\n",
      "he big fat women and the heliocopters they bring\n",
      "\n",
      "with them to watch them and their kids. whole long-\n",
      "\n",
      "ass sheets of improper names. we refused to act right\n",
      "at the hospital and I was right with ’em. at the wrong time\n",
      "\n",
      "I started reading my paper and ash flew from their big ol’\n",
      "legs. we rub down and dance everyday at the broke clinic\n",
      "\n",
      "and I was right with ’em. johnny griffin turns to this long\n",
      "burning to pray for fire. make a song about the sky they stole.\n",
      "\n",
      "\n",
      "if you ain’t gon’ get down then what you come here for?\n",
      "\n",
      "what they bring your ass up in here for if you ain’t gon’\n",
      "tear shit up? if you wasn’t just as happy to be here as you was\n",
      "\n",
      "to come then what you gon’ do, simple motherfucker? the salve trade\n"
     ]
    }
   ],
   "source": [
    "moten = open(\"poetry/fredMoten-theSalveTrade.txt\").read()\n",
    "print(moten)"
   ]
  },
  {
   "cell_type": "code",
   "execution_count": 3,
   "metadata": {},
   "outputs": [
    {
     "name": "stdout",
     "output_type": "stream",
     "text": [
      "loaded like spoons\n",
      "into the belly of Jesus\n",
      "where we lay for weeks for months\n",
      "in the sweat and stink\n",
      "of our own breathing\n",
      "Jesus\n",
      "why do you not protect us\n",
      "chained to the heart of the Angel\n",
      "where the prayers we never tell\n",
      "and hot and red\n",
      "as our bloody ankles\n",
      "Jesus\n",
      "Angel\n",
      "can these be men\n",
      "who vomit us out from ships\n",
      "called Jesus    Angel    Grace of God\n",
      "onto a heathen country\n",
      "Jesus\n",
      "Angel\n",
      "ever again\n",
      "can this tongue speak\n",
      "can these bones walk\n",
      "Grace Of God\n",
      "can this sin live\n"
     ]
    }
   ],
   "source": [
    "clifton = open(\"poetry/lucilleClifton-slaveships.txt\").read()\n",
    "print(clifton)"
   ]
  },
  {
   "cell_type": "markdown",
   "metadata": {},
   "source": [
    "# deconstruct\n",
    "here i am splitting up the text files into random words that can start to play with."
   ]
  },
  {
   "cell_type": "code",
   "execution_count": 4,
   "metadata": {},
   "outputs": [
    {
     "ename": "NameError",
     "evalue": "name 'moten_line' is not defined",
     "output_type": "error",
     "traceback": [
      "\u001b[0;31m----------------------------------------------------------------\u001b[0m",
      "\u001b[0;31mNameError\u001b[0m                      Traceback (most recent call last)",
      "\u001b[0;32m<ipython-input-4-901a5a28c04c>\u001b[0m in \u001b[0;36m<module>\u001b[0;34m\u001b[0m\n\u001b[1;32m      1\u001b[0m \u001b[0mmoten_words\u001b[0m \u001b[0;34m=\u001b[0m \u001b[0mmoten\u001b[0m\u001b[0;34m.\u001b[0m\u001b[0msplit\u001b[0m\u001b[0;34m(\u001b[0m\u001b[0;34m' '\u001b[0m\u001b[0;34m)\u001b[0m\u001b[0;34m\u001b[0m\u001b[0;34m\u001b[0m\u001b[0m\n\u001b[0;32m----> 2\u001b[0;31m \u001b[0mprint\u001b[0m\u001b[0;34m(\u001b[0m\u001b[0mmoten_line\u001b[0m\u001b[0;34m[\u001b[0m\u001b[0mrandom\u001b[0m\u001b[0;34m.\u001b[0m\u001b[0mrandrange\u001b[0m\u001b[0;34m(\u001b[0m\u001b[0;36m5\u001b[0m\u001b[0;34m,\u001b[0m \u001b[0;36m100\u001b[0m\u001b[0;34m)\u001b[0m\u001b[0;34m]\u001b[0m\u001b[0;34m)\u001b[0m\u001b[0;34m\u001b[0m\u001b[0;34m\u001b[0m\u001b[0m\n\u001b[0m",
      "\u001b[0;31mNameError\u001b[0m: name 'moten_line' is not defined"
     ]
    }
   ],
   "source": [
    "moten_words = moten.split(' ')\n",
    "print(moten_line[random.randrange(5, 100)])"
   ]
  },
  {
   "cell_type": "code",
   "execution_count": 49,
   "metadata": {},
   "outputs": [
    {
     "name": "stdout",
     "output_type": "stream",
     "text": [
      "red\n",
      "as\n"
     ]
    }
   ],
   "source": [
    "clifton_words = clifton.split(' ')\n",
    "print(clifton_line[random.randrange(5,80)])"
   ]
  },
  {
   "cell_type": "code",
   "execution_count": 36,
   "metadata": {},
   "outputs": [
    {
     "name": "stdout",
     "output_type": "stream",
     "text": [
      "ivory\n",
      "sheets\n",
      "broke\n",
      "your\n",
      "here\n",
      "improper\n",
      "to\n",
      "their\n",
      "here\n",
      "at\n"
     ]
    }
   ],
   "source": [
    "for i in range (10):\n",
    "    # declare variables\n",
    "    minimum_wordcount = 1\n",
    "    moten_wordcount = 200\n",
    "    print(moten_line[random.randrange(minimum_wordcount, moten_wordcount)])"
   ]
  },
  {
   "cell_type": "code",
   "execution_count": 54,
   "metadata": {},
   "outputs": [
    {
     "name": "stdout",
     "output_type": "stream",
     "text": [
      "['', 'all', 'down', 'on', 'perdido', 'street,', 'from', 'san', 'juan\\n\\nto', 'inglewood,', 'up', 'on', 'that', 'bridge,', 'up', 'where', 'the\\nsoul', 'trees', 'grow', 'by', 'soul,', 'dance', 'to', 'fantastic\\ninformation', 'while', 'we', 'kick', 'off', 'the', 'modern', 'world.\\n\\nthe', 'whistle', 'sounded', 'good', 'like', 'a', 'kiss', 'on', 'a', 'train.\\n\\na', 'track', 'below', 'us', 'in', 'the', 'cabinet', 'in', 'the', 'tunnel\\n\\nunder', 'the', 'water.', 'a', 'steady', 'boom', 'to', 'lift', 'us', 'out.\\nnobody', 'lived,', 'not', 'without', 'digging,', 'but', 'he', 'wore\\n\\n\\nthat', 'ivory', 'waistcoat', 'and', 'we', 'loved', 'to', 'see', 'that', 'shit.\\n\\nI', 'love', 'my', 'people', 'too', 'much', 'to', 'be', 'around', 'them\\nat', 'school.', 'I', 'slip', 'underneath', 'the', 'cinema', 'tree,', 'move', 'myself\\nin', 'half,', 'dance', 'to', 'fray,', 'write', 'a', 'paper', 'on', 'the', 'salve', 'trade.\\n\\nhe', 'big', 'fat', 'women', 'and', 'the', 'heliocopters', 'they', 'bring\\n\\nwith', 'them', 'to', 'watch', 'them', 'and', 'their', 'kids.', 'whole', 'long-\\n\\nass', 'sheets', 'of', 'improper', 'names.', 'we', 'refused', 'to', 'act', 'right\\nat', 'the', 'hospital', 'and', 'I', 'was', 'right', 'with', '’em.', 'at', 'the', 'wrong', 'time\\n\\nI', 'started', 'reading', 'my', 'paper', 'and', 'ash', 'flew', 'from', 'their', 'big', 'ol’\\nlegs.', 'we', 'rub', 'down', 'and', 'dance', 'everyday', 'at', 'the', 'broke', 'clinic\\n\\nand', 'I', 'was', 'right', 'with', '’em.', 'johnny', 'griffin', 'turns', 'to', 'this', 'long\\nburning', 'to', 'pray', 'for', 'fire.', 'make', 'a', 'song', 'about', 'the', 'sky', 'they', 'stole.\\n\\n\\nif', 'you', 'ain’t', 'gon’', 'get', 'down', 'then', 'what', 'you', 'come', 'here', 'for?\\n\\nwhat', 'they', 'bring', 'your', 'ass', 'up', 'in', 'here', 'for', 'if', 'you', 'ain’t', 'gon’\\ntear', 'shit', 'up?', 'if', 'you', 'wasn’t', 'just', 'as', 'happy', 'to', 'be', 'here', 'as', 'you', 'was\\n\\nto', 'come', 'then', 'what', 'you', 'gon’', 'do,', 'simple', 'motherfucker?', 'the', 'salve', 'trade', 'loaded', 'like', 'spoons\\ninto', 'the', 'belly', 'of', 'Jesus\\nwhere', 'we', 'lay', 'for', 'weeks', 'for', 'months\\nin', 'the', 'sweat', 'and', 'stink\\nof', 'our', 'own', 'breathing\\nJesus\\nwhy', 'do', 'you', 'not', 'protect', 'us\\nchained', 'to', 'the', 'heart', 'of', 'the', 'Angel\\nwhere', 'the', 'prayers', 'we', 'never', 'tell\\nand', 'hot', 'and', 'red\\nas', 'our', 'bloody', 'ankles\\nJesus\\nAngel\\ncan', 'these', 'be', 'men\\nwho', 'vomit', 'us', 'out', 'from', 'ships\\ncalled', 'Jesus', '', '', '', 'Angel', '', '', '', 'Grace', 'of', 'God\\nonto', 'a', 'heathen', 'country\\nJesus\\nAngel\\never', 'again\\ncan', 'this', 'tongue', 'speak\\ncan', 'these', 'bones', 'walk\\nGrace', 'Of', 'God\\ncan', 'this', 'sin', 'live']\n"
     ]
    }
   ],
   "source": [
    "combined_words = moten_words + clifton_words\n",
    "print(combined_words)"
   ]
  },
  {
   "cell_type": "code",
   "execution_count": 71,
   "metadata": {},
   "outputs": [
    {
     "name": "stdout",
     "output_type": "stream",
     "text": [
      "heliocopters refused ain’t you flew them we you live down without turns to street, without they Grace to of about a to lived, men\n",
      "who for for move dance up this never you hospital to up the was from watch they you here gon’\n",
      "tear breathing\n",
      "Jesus\n",
      "why do by in them gon’ hospital\n"
     ]
    }
   ],
   "source": [
    "random_poem = ' '.join([random.choice(combined_words) for i in range(50)])\n",
    "print(random_poem)"
   ]
  },
  {
   "cell_type": "markdown",
   "metadata": {},
   "source": [
    "# generate some html"
   ]
  },
  {
   "cell_type": "code",
   "execution_count": 60,
   "metadata": {},
   "outputs": [],
   "source": [
    "# display html within an embedded iframe\n",
    "\n",
    "from IPython.display import display, HTML\n",
    "def show_html(src):\n",
    "    return display(HTML(src), metadata=dict(isolated=True))"
   ]
  },
  {
   "cell_type": "code",
   "execution_count": 134,
   "metadata": {},
   "outputs": [],
   "source": [
    "html_tmpl = \"\"\"<!DOCTYPE html>\n",
    "<html lang=\"en\">\n",
    "<head>\n",
    "    <meta charset=\"utf-8\">\n",
    "    <title>{title}</title>\n",
    "    <style>\n",
    "    html {{ background: lightsalmon; font-family: \"Courier\", monospace; text-transform: lowercase; min-height: 32em; overflow: hidden; }}\n",
    "    </style>\n",
    "</head>\n",
    "<body>\n",
    "{content}\n",
    "</body>\n",
    "</html>\"\"\""
   ]
  },
  {
   "cell_type": "code",
   "execution_count": 135,
   "metadata": {},
   "outputs": [],
   "source": [
    "def mkdiv(content, **kwargs):\n",
    "    if 'position' not in kwargs:\n",
    "        kwargs['position'] = 'absolute'\n",
    "    style_str = ' '.join([\": \".join((k.replace('_', '-'), v))+\";\" for k, v in kwargs.items()])\n",
    "    return f\"<div style='{style_str}'>{content}</div>\""
   ]
  },
  {
   "cell_type": "code",
   "execution_count": 136,
   "metadata": {},
   "outputs": [
    {
     "data": {
      "text/html": [
       "<!DOCTYPE html>\n",
       "<html lang=\"en\">\n",
       "<head>\n",
       "    <meta charset=\"utf-8\">\n",
       "    <title>what if lucille clifton and fred moten co-wrote a poem entitled: slave/salve ship grid?</title>\n",
       "    <style>\n",
       "    html { background: lightsalmon; font-family: \"Courier\", monospace; text-transform: lowercase; min-height: 32em; overflow: hidden; }\n",
       "    </style>\n",
       "</head>\n",
       "<body>\n",
       "<div style='top: 0.0%; left: 0.0%; font-size: 19pt; transform: rotate(5deg); position: absolute;'>heliocopters</div><div style='top: 0.0%; left: 28.571428571428573%; font-size: 17pt; transform: rotate(5deg); position: absolute;'>refused</div><div style='top: 0.0%; left: 57.142857142857146%; font-size: 15pt; transform: rotate(5deg); position: absolute;'>ain’t</div><div style='top: 0.0%; left: 85.71428571428572%; font-size: 18pt; transform: rotate(5deg); position: absolute;'>you</div><div style='top: 0.0%; left: 114.28571428571429%; font-size: 12pt; transform: rotate(5deg); position: absolute;'>flew</div><div style='top: 0.0%; left: 142.85714285714286%; font-size: 19pt; transform: rotate(5deg); position: absolute;'>them</div><div style='top: 0.0%; left: 171.42857142857144%; font-size: 17pt; transform: rotate(5deg); position: absolute;'>we</div><div style='top: 28.571428571428573%; left: 0.0%; font-size: 15pt; transform: rotate(5deg); position: absolute;'>you</div><div style='top: 28.571428571428573%; left: 28.571428571428573%; font-size: 19pt; transform: rotate(5deg); position: absolute;'>live</div><div style='top: 28.571428571428573%; left: 57.142857142857146%; font-size: 12pt; transform: rotate(5deg); position: absolute;'>down</div><div style='top: 28.571428571428573%; left: 85.71428571428572%; font-size: 13pt; transform: rotate(5deg); position: absolute;'>without</div><div style='top: 28.571428571428573%; left: 114.28571428571429%; font-size: 18pt; transform: rotate(5deg); position: absolute;'>turns</div><div style='top: 28.571428571428573%; left: 142.85714285714286%; font-size: 15pt; transform: rotate(5deg); position: absolute;'>to</div><div style='top: 28.571428571428573%; left: 171.42857142857144%; font-size: 14pt; transform: rotate(5deg); position: absolute;'>street,</div><div style='top: 57.142857142857146%; left: 0.0%; font-size: 12pt; transform: rotate(5deg); position: absolute;'>without</div><div style='top: 57.142857142857146%; left: 28.571428571428573%; font-size: 18pt; transform: rotate(5deg); position: absolute;'>they</div><div style='top: 57.142857142857146%; left: 57.142857142857146%; font-size: 19pt; transform: rotate(5deg); position: absolute;'>Grace</div><div style='top: 57.142857142857146%; left: 85.71428571428572%; font-size: 19pt; transform: rotate(5deg); position: absolute;'>to</div><div style='top: 57.142857142857146%; left: 114.28571428571429%; font-size: 18pt; transform: rotate(5deg); position: absolute;'>of</div><div style='top: 57.142857142857146%; left: 142.85714285714286%; font-size: 15pt; transform: rotate(5deg); position: absolute;'>about</div><div style='top: 57.142857142857146%; left: 171.42857142857144%; font-size: 19pt; transform: rotate(5deg); position: absolute;'>a</div><div style='top: 85.71428571428572%; left: 0.0%; font-size: 19pt; transform: rotate(5deg); position: absolute;'>to</div><div style='top: 85.71428571428572%; left: 28.571428571428573%; font-size: 17pt; transform: rotate(5deg); position: absolute;'>lived,</div><div style='top: 85.71428571428572%; left: 57.142857142857146%; font-size: 18pt; transform: rotate(5deg); position: absolute;'>men</div><div style='top: 85.71428571428572%; left: 85.71428571428572%; font-size: 19pt; transform: rotate(5deg); position: absolute;'>who</div><div style='top: 85.71428571428572%; left: 114.28571428571429%; font-size: 19pt; transform: rotate(5deg); position: absolute;'>for</div><div style='top: 85.71428571428572%; left: 142.85714285714286%; font-size: 12pt; transform: rotate(5deg); position: absolute;'>for</div><div style='top: 85.71428571428572%; left: 171.42857142857144%; font-size: 14pt; transform: rotate(5deg); position: absolute;'>move</div><div style='top: 114.28571428571429%; left: 0.0%; font-size: 14pt; transform: rotate(5deg); position: absolute;'>dance</div><div style='top: 114.28571428571429%; left: 28.571428571428573%; font-size: 19pt; transform: rotate(5deg); position: absolute;'>up</div><div style='top: 114.28571428571429%; left: 57.142857142857146%; font-size: 17pt; transform: rotate(5deg); position: absolute;'>this</div><div style='top: 114.28571428571429%; left: 85.71428571428572%; font-size: 15pt; transform: rotate(5deg); position: absolute;'>never</div><div style='top: 114.28571428571429%; left: 114.28571428571429%; font-size: 16pt; transform: rotate(5deg); position: absolute;'>you</div><div style='top: 114.28571428571429%; left: 142.85714285714286%; font-size: 16pt; transform: rotate(5deg); position: absolute;'>hospital</div><div style='top: 114.28571428571429%; left: 171.42857142857144%; font-size: 16pt; transform: rotate(5deg); position: absolute;'>to</div><div style='top: 142.85714285714286%; left: 0.0%; font-size: 17pt; transform: rotate(5deg); position: absolute;'>up</div><div style='top: 142.85714285714286%; left: 28.571428571428573%; font-size: 17pt; transform: rotate(5deg); position: absolute;'>the</div><div style='top: 142.85714285714286%; left: 57.142857142857146%; font-size: 16pt; transform: rotate(5deg); position: absolute;'>was</div><div style='top: 142.85714285714286%; left: 85.71428571428572%; font-size: 19pt; transform: rotate(5deg); position: absolute;'>from</div><div style='top: 142.85714285714286%; left: 114.28571428571429%; font-size: 17pt; transform: rotate(5deg); position: absolute;'>watch</div><div style='top: 142.85714285714286%; left: 142.85714285714286%; font-size: 18pt; transform: rotate(5deg); position: absolute;'>they</div><div style='top: 142.85714285714286%; left: 171.42857142857144%; font-size: 14pt; transform: rotate(5deg); position: absolute;'>you</div><div style='top: 171.42857142857144%; left: 0.0%; font-size: 19pt; transform: rotate(5deg); position: absolute;'>here</div><div style='top: 171.42857142857144%; left: 28.571428571428573%; font-size: 15pt; transform: rotate(5deg); position: absolute;'>gon’</div><div style='top: 171.42857142857144%; left: 57.142857142857146%; font-size: 13pt; transform: rotate(5deg); position: absolute;'>tear</div><div style='top: 171.42857142857144%; left: 85.71428571428572%; font-size: 16pt; transform: rotate(5deg); position: absolute;'>breathing</div><div style='top: 171.42857142857144%; left: 114.28571428571429%; font-size: 15pt; transform: rotate(5deg); position: absolute;'>Jesus</div><div style='top: 171.42857142857144%; left: 142.85714285714286%; font-size: 14pt; transform: rotate(5deg); position: absolute;'>why</div><div style='top: 171.42857142857144%; left: 171.42857142857144%; font-size: 13pt; transform: rotate(5deg); position: absolute;'>do</div>\n",
       "</body>\n",
       "</html>"
      ],
      "text/plain": [
       "<IPython.core.display.HTML object>"
      ]
     },
     "metadata": {
      "isolated": true
     },
     "output_type": "display_data"
    }
   ],
   "source": [
    "src = random_poem\n",
    "words = src.split()\n",
    "grid_size = int(math.sqrt(len(words)))\n",
    "current_index = 0\n",
    "divs = []\n",
    "for i in range(grid_size):\n",
    "    for j in range(grid_size):\n",
    "        x_pos = (200 / grid_size) * i\n",
    "        y_pos = (200 / grid_size) * j\n",
    "        this_div = mkdiv(words[current_index],\n",
    "                         top=f\"{x_pos}%\",\n",
    "                         left=f\"{y_pos}%\",\n",
    "                         font_size=f\"{random.randrange(12,20)}pt\",\n",
    "                         transform=\"rotate(5deg)\",)\n",
    "        divs.append(this_div)\n",
    "        current_index += 1\n",
    "html_src = html_tmpl.format(title=\"what if lucille clifton and fred moten co-wrote a poem entitled: slave/salve ship grid?\", content=\"\".join(divs))\n",
    "show_html(html_src)"
   ]
  },
  {
   "cell_type": "code",
   "execution_count": 137,
   "metadata": {},
   "outputs": [
    {
     "data": {
      "text/html": [
       "<!DOCTYPE html>\n",
       "<html lang=\"en\">\n",
       "<head>\n",
       "    <meta charset=\"utf-8\">\n",
       "    <title>what if lucille clifton and fred moten co-wrote a poem entitled: slave/salve ship grid?</title>\n",
       "    <style>\n",
       "    html { background: lightsalmon; font-family: \"Courier\", monospace; text-transform: lowercase; min-height: 32em; overflow: hidden; }\n",
       "    </style>\n",
       "</head>\n",
       "<body>\n",
       "<div style='top: 10.0%; left: 10.0%; font-size: 14pt; position: absolute;'>heliocopters</div><div style='top: 10.0%; left: 10.0%; font-size: 14pt; position: absolute;'>heliocopters</div><div style='top: 10.0%; left: 10.0%; font-size: 14pt; position: absolute;'>heliocopters</div><div style='top: 10.0%; left: 18.823529411764707%; font-size: 35pt; position: absolute;'>you</div><div style='top: 10.0%; left: 21.764705882352942%; font-size: 25pt; position: absolute;'>flew</div><div style='top: 10.0%; left: 21.764705882352942%; font-size: 25pt; position: absolute;'>flew</div><div style='top: 10.0%; left: 27.647058823529413%; font-size: 20pt; position: absolute;'>we</div><div style='top: 10.0%; left: 27.647058823529413%; font-size: 20pt; position: absolute;'>we</div><div style='top: 10.0%; left: 27.647058823529413%; font-size: 20pt; position: absolute;'>we</div><div style='top: 10.0%; left: 36.470588235294116%; font-size: 15pt; position: absolute;'>down</div><div style='top: 10.0%; left: 39.411764705882355%; font-size: 29pt; position: absolute;'>without</div><div style='top: 10.0%; left: 42.352941176470594%; font-size: 13pt; position: absolute;'>turns</div><div style='top: 10.0%; left: 45.294117647058826%; font-size: 28pt; position: absolute;'>to</div><div style='top: 10.0%; left: 48.23529411764706%; font-size: 34pt; position: absolute;'>street,</div><div style='top: 10.0%; left: 48.23529411764706%; font-size: 34pt; position: absolute;'>street,</div><div style='top: 10.0%; left: 54.117647058823536%; font-size: 34pt; position: absolute;'>they</div><div style='top: 10.0%; left: 57.05882352941177%; font-size: 34pt; position: absolute;'>Grace</div><div style='top: 10.0%; left: 57.05882352941177%; font-size: 34pt; position: absolute;'>Grace</div><div style='top: 12.941176470588236%; left: 12.941176470588236%; font-size: 39pt; position: absolute;'>of</div><div style='top: 12.941176470588236%; left: 12.941176470588236%; font-size: 39pt; position: absolute;'>of</div><div style='top: 12.941176470588236%; left: 12.941176470588236%; font-size: 39pt; position: absolute;'>of</div><div style='top: 12.941176470588236%; left: 12.941176470588236%; font-size: 39pt; position: absolute;'>of</div><div style='top: 12.941176470588236%; left: 12.941176470588236%; font-size: 39pt; position: absolute;'>of</div><div style='top: 12.941176470588236%; left: 27.647058823529413%; font-size: 12pt; position: absolute;'>men</div><div style='top: 12.941176470588236%; left: 27.647058823529413%; font-size: 12pt; position: absolute;'>men</div><div style='top: 12.941176470588236%; left: 33.529411764705884%; font-size: 15pt; position: absolute;'>for</div><div style='top: 12.941176470588236%; left: 36.470588235294116%; font-size: 32pt; position: absolute;'>for</div><div style='top: 12.941176470588236%; left: 39.411764705882355%; font-size: 34pt; position: absolute;'>move</div><div style='top: 12.941176470588236%; left: 42.352941176470594%; font-size: 21pt; position: absolute;'>dance</div><div style='top: 12.941176470588236%; left: 42.352941176470594%; font-size: 21pt; position: absolute;'>dance</div><div style='top: 12.941176470588236%; left: 48.23529411764706%; font-size: 29pt; position: absolute;'>this</div><div style='top: 12.941176470588236%; left: 51.1764705882353%; font-size: 13pt; position: absolute;'>never</div><div style='top: 12.941176470588236%; left: 54.117647058823536%; font-size: 32pt; position: absolute;'>you</div><div style='top: 12.941176470588236%; left: 57.05882352941177%; font-size: 36pt; position: absolute;'>hospital</div><div style='top: 15.882352941176471%; left: 10.0%; font-size: 33pt; position: absolute;'>to</div><div style='top: 15.882352941176471%; left: 12.941176470588236%; font-size: 31pt; position: absolute;'>up</div><div style='top: 15.882352941176471%; left: 15.882352941176471%; font-size: 39pt; position: absolute;'>the</div><div style='top: 15.882352941176471%; left: 15.882352941176471%; font-size: 39pt; position: absolute;'>the</div><div style='top: 15.882352941176471%; left: 21.764705882352942%; font-size: 28pt; position: absolute;'>from</div><div style='top: 15.882352941176471%; left: 24.705882352941178%; font-size: 38pt; position: absolute;'>watch</div><div style='top: 15.882352941176471%; left: 27.647058823529413%; font-size: 39pt; position: absolute;'>they</div><div style='top: 15.882352941176471%; left: 30.58823529411765%; font-size: 17pt; position: absolute;'>you</div><div style='top: 15.882352941176471%; left: 33.529411764705884%; font-size: 28pt; position: absolute;'>here</div><div style='top: 15.882352941176471%; left: 36.470588235294116%; font-size: 31pt; position: absolute;'>gon’</div><div style='top: 15.882352941176471%; left: 36.470588235294116%; font-size: 31pt; position: absolute;'>gon’</div><div style='top: 15.882352941176471%; left: 42.352941176470594%; font-size: 18pt; position: absolute;'>breathing</div><div style='top: 15.882352941176471%; left: 45.294117647058826%; font-size: 25pt; position: absolute;'>Jesus</div><div style='top: 15.882352941176471%; left: 48.23529411764706%; font-size: 26pt; position: absolute;'>why</div><div style='top: 15.882352941176471%; left: 48.23529411764706%; font-size: 26pt; position: absolute;'>why</div><div style='top: 15.882352941176471%; left: 54.117647058823536%; font-size: 29pt; position: absolute;'>by</div><div style='top: 15.882352941176471%; left: 57.05882352941177%; font-size: 27pt; position: absolute;'>in</div><div style='top: 18.823529411764707%; left: 10.0%; font-size: 30pt; position: absolute;'>them</div><div style='top: 18.823529411764707%; left: 12.941176470588236%; font-size: 14pt; position: absolute;'>gon’</div><div style='top: 18.823529411764707%; left: 12.941176470588236%; font-size: 14pt; position: absolute;'>gon’</div><div style='top: 18.823529411764707%; left: 18.823529411764707%; font-size: 15pt; position: absolute;'>refused</div><div style='top: 18.823529411764707%; left: 21.764705882352942%; font-size: 34pt; position: absolute;'>ain’t</div><div style='top: 18.823529411764707%; left: 24.705882352941178%; font-size: 38pt; position: absolute;'>you</div><div style='top: 18.823529411764707%; left: 27.647058823529413%; font-size: 18pt; position: absolute;'>flew</div><div style='top: 18.823529411764707%; left: 30.58823529411765%; font-size: 17pt; position: absolute;'>them</div><div style='top: 18.823529411764707%; left: 33.529411764705884%; font-size: 24pt; position: absolute;'>we</div><div style='top: 18.823529411764707%; left: 33.529411764705884%; font-size: 24pt; position: absolute;'>we</div><div style='top: 18.823529411764707%; left: 39.411764705882355%; font-size: 23pt; position: absolute;'>live</div><div style='top: 18.823529411764707%; left: 39.411764705882355%; font-size: 23pt; position: absolute;'>live</div><div style='top: 18.823529411764707%; left: 45.294117647058826%; font-size: 33pt; position: absolute;'>without</div><div style='top: 18.823529411764707%; left: 45.294117647058826%; font-size: 33pt; position: absolute;'>without</div><div style='top: 18.823529411764707%; left: 51.1764705882353%; font-size: 25pt; position: absolute;'>to</div><div style='top: 18.823529411764707%; left: 54.117647058823536%; font-size: 20pt; position: absolute;'>street,</div><div style='top: 18.823529411764707%; left: 57.05882352941177%; font-size: 27pt; position: absolute;'>without</div><div style='top: 18.823529411764707%; left: 57.05882352941177%; font-size: 27pt; position: absolute;'>without</div><div style='top: 18.823529411764707%; left: 57.05882352941177%; font-size: 27pt; position: absolute;'>without</div><div style='top: 21.764705882352942%; left: 15.882352941176471%; font-size: 28pt; position: absolute;'>to</div><div style='top: 21.764705882352942%; left: 18.823529411764707%; font-size: 21pt; position: absolute;'>of</div><div style='top: 21.764705882352942%; left: 18.823529411764707%; font-size: 21pt; position: absolute;'>of</div><div style='top: 21.764705882352942%; left: 18.823529411764707%; font-size: 21pt; position: absolute;'>of</div><div style='top: 21.764705882352942%; left: 27.647058823529413%; font-size: 34pt; position: absolute;'>to</div><div style='top: 21.764705882352942%; left: 30.58823529411765%; font-size: 39pt; position: absolute;'>lived,</div><div style='top: 21.764705882352942%; left: 33.529411764705884%; font-size: 13pt; position: absolute;'>men</div><div style='top: 21.764705882352942%; left: 36.470588235294116%; font-size: 31pt; position: absolute;'>who</div><div style='top: 21.764705882352942%; left: 39.411764705882355%; font-size: 33pt; position: absolute;'>for</div><div style='top: 21.764705882352942%; left: 42.352941176470594%; font-size: 26pt; position: absolute;'>for</div><div style='top: 21.764705882352942%; left: 42.352941176470594%; font-size: 26pt; position: absolute;'>for</div><div style='top: 21.764705882352942%; left: 42.352941176470594%; font-size: 26pt; position: absolute;'>for</div><div style='top: 21.764705882352942%; left: 51.1764705882353%; font-size: 12pt; position: absolute;'>up</div><div style='top: 21.764705882352942%; left: 54.117647058823536%; font-size: 32pt; position: absolute;'>this</div><div style='top: 21.764705882352942%; left: 57.05882352941177%; font-size: 30pt; position: absolute;'>never</div><div style='top: 24.705882352941178%; left: 10.0%; font-size: 23pt; position: absolute;'>you</div><div style='top: 24.705882352941178%; left: 10.0%; font-size: 23pt; position: absolute;'>you</div><div style='top: 24.705882352941178%; left: 15.882352941176471%; font-size: 38pt; position: absolute;'>to</div><div style='top: 24.705882352941178%; left: 18.823529411764707%; font-size: 16pt; position: absolute;'>up</div><div style='top: 24.705882352941178%; left: 21.764705882352942%; font-size: 22pt; position: absolute;'>the</div><div style='top: 24.705882352941178%; left: 24.705882352941178%; font-size: 29pt; position: absolute;'>was</div><div style='top: 24.705882352941178%; left: 24.705882352941178%; font-size: 29pt; position: absolute;'>was</div><div style='top: 24.705882352941178%; left: 30.58823529411765%; font-size: 28pt; position: absolute;'>watch</div><div style='top: 24.705882352941178%; left: 33.529411764705884%; font-size: 22pt; position: absolute;'>they</div><div style='top: 24.705882352941178%; left: 36.470588235294116%; font-size: 12pt; position: absolute;'>you</div><div style='top: 24.705882352941178%; left: 39.411764705882355%; font-size: 27pt; position: absolute;'>here</div><div style='top: 24.705882352941178%; left: 39.411764705882355%; font-size: 27pt; position: absolute;'>here</div><div style='top: 24.705882352941178%; left: 39.411764705882355%; font-size: 27pt; position: absolute;'>here</div><div style='top: 24.705882352941178%; left: 39.411764705882355%; font-size: 27pt; position: absolute;'>here</div><div style='top: 24.705882352941178%; left: 39.411764705882355%; font-size: 27pt; position: absolute;'>here</div><div style='top: 24.705882352941178%; left: 54.117647058823536%; font-size: 17pt; position: absolute;'>why</div><div style='top: 24.705882352941178%; left: 57.05882352941177%; font-size: 17pt; position: absolute;'>do</div><div style='top: 27.647058823529413%; left: 10.0%; font-size: 36pt; position: absolute;'>by</div><div style='top: 27.647058823529413%; left: 12.941176470588236%; font-size: 21pt; position: absolute;'>in</div><div style='top: 27.647058823529413%; left: 15.882352941176471%; font-size: 28pt; position: absolute;'>them</div><div style='top: 27.647058823529413%; left: 18.823529411764707%; font-size: 39pt; position: absolute;'>gon’</div><div style='top: 27.647058823529413%; left: 21.764705882352942%; font-size: 39pt; position: absolute;'>hospitalheliocopters</div><div style='top: 27.647058823529413%; left: 24.705882352941178%; font-size: 33pt; position: absolute;'>refused</div><div style='top: 27.647058823529413%; left: 27.647058823529413%; font-size: 25pt; position: absolute;'>ain’t</div><div style='top: 27.647058823529413%; left: 30.58823529411765%; font-size: 20pt; position: absolute;'>you</div><div style='top: 27.647058823529413%; left: 33.529411764705884%; font-size: 29pt; position: absolute;'>flew</div><div style='top: 27.647058823529413%; left: 36.470588235294116%; font-size: 37pt; position: absolute;'>them</div><div style='top: 27.647058823529413%; left: 36.470588235294116%; font-size: 37pt; position: absolute;'>them</div><div style='top: 27.647058823529413%; left: 42.352941176470594%; font-size: 29pt; position: absolute;'>you</div><div style='top: 27.647058823529413%; left: 45.294117647058826%; font-size: 19pt; position: absolute;'>live</div><div style='top: 27.647058823529413%; left: 48.23529411764706%; font-size: 19pt; position: absolute;'>down</div><div style='top: 27.647058823529413%; left: 51.1764705882353%; font-size: 16pt; position: absolute;'>without</div><div style='top: 27.647058823529413%; left: 54.117647058823536%; font-size: 19pt; position: absolute;'>turns</div><div style='top: 27.647058823529413%; left: 57.05882352941177%; font-size: 26pt; position: absolute;'>to</div><div style='top: 30.58823529411765%; left: 10.0%; font-size: 32pt; position: absolute;'>street,</div><div style='top: 30.58823529411765%; left: 12.941176470588236%; font-size: 12pt; position: absolute;'>without</div><div style='top: 30.58823529411765%; left: 12.941176470588236%; font-size: 12pt; position: absolute;'>without</div><div style='top: 30.58823529411765%; left: 18.823529411764707%; font-size: 34pt; position: absolute;'>Grace</div><div style='top: 30.58823529411765%; left: 21.764705882352942%; font-size: 38pt; position: absolute;'>to</div><div style='top: 30.58823529411765%; left: 24.705882352941178%; font-size: 28pt; position: absolute;'>of</div><div style='top: 30.58823529411765%; left: 24.705882352941178%; font-size: 28pt; position: absolute;'>of</div><div style='top: 30.58823529411765%; left: 24.705882352941178%; font-size: 28pt; position: absolute;'>of</div><div style='top: 30.58823529411765%; left: 33.529411764705884%; font-size: 15pt; position: absolute;'>to</div><div style='top: 30.58823529411765%; left: 36.470588235294116%; font-size: 30pt; position: absolute;'>lived,</div><div style='top: 30.58823529411765%; left: 36.470588235294116%; font-size: 30pt; position: absolute;'>lived,</div><div style='top: 30.58823529411765%; left: 36.470588235294116%; font-size: 30pt; position: absolute;'>lived,</div><div style='top: 30.58823529411765%; left: 45.294117647058826%; font-size: 24pt; position: absolute;'>for</div><div style='top: 30.58823529411765%; left: 48.23529411764706%; font-size: 25pt; position: absolute;'>for</div><div style='top: 30.58823529411765%; left: 51.1764705882353%; font-size: 37pt; position: absolute;'>move</div><div style='top: 30.58823529411765%; left: 51.1764705882353%; font-size: 37pt; position: absolute;'>move</div><div style='top: 30.58823529411765%; left: 51.1764705882353%; font-size: 37pt; position: absolute;'>move</div><div style='top: 33.529411764705884%; left: 10.0%; font-size: 32pt; position: absolute;'>this</div><div style='top: 33.529411764705884%; left: 12.941176470588236%; font-size: 16pt; position: absolute;'>never</div><div style='top: 33.529411764705884%; left: 15.882352941176471%; font-size: 25pt; position: absolute;'>you</div><div style='top: 33.529411764705884%; left: 18.823529411764707%; font-size: 12pt; position: absolute;'>hospital</div><div style='top: 33.529411764705884%; left: 21.764705882352942%; font-size: 36pt; position: absolute;'>to</div><div style='top: 33.529411764705884%; left: 24.705882352941178%; font-size: 13pt; position: absolute;'>up</div><div style='top: 33.529411764705884%; left: 24.705882352941178%; font-size: 13pt; position: absolute;'>up</div><div style='top: 33.529411764705884%; left: 30.58823529411765%; font-size: 39pt; position: absolute;'>was</div><div style='top: 33.529411764705884%; left: 33.529411764705884%; font-size: 26pt; position: absolute;'>from</div><div style='top: 33.529411764705884%; left: 36.470588235294116%; font-size: 35pt; position: absolute;'>watch</div><div style='top: 33.529411764705884%; left: 39.411764705882355%; font-size: 31pt; position: absolute;'>they</div><div style='top: 33.529411764705884%; left: 39.411764705882355%; font-size: 31pt; position: absolute;'>they</div><div style='top: 33.529411764705884%; left: 45.294117647058826%; font-size: 20pt; position: absolute;'>here</div><div style='top: 33.529411764705884%; left: 45.294117647058826%; font-size: 20pt; position: absolute;'>here</div><div style='top: 33.529411764705884%; left: 45.294117647058826%; font-size: 20pt; position: absolute;'>here</div><div style='top: 33.529411764705884%; left: 54.117647058823536%; font-size: 13pt; position: absolute;'>breathing</div><div style='top: 33.529411764705884%; left: 57.05882352941177%; font-size: 35pt; position: absolute;'>Jesus</div><div style='top: 36.470588235294116%; left: 10.0%; font-size: 29pt; position: absolute;'>why</div><div style='top: 36.470588235294116%; left: 12.941176470588236%; font-size: 28pt; position: absolute;'>do</div><div style='top: 36.470588235294116%; left: 15.882352941176471%; font-size: 32pt; position: absolute;'>by</div><div style='top: 36.470588235294116%; left: 15.882352941176471%; font-size: 32pt; position: absolute;'>by</div><div style='top: 36.470588235294116%; left: 21.764705882352942%; font-size: 20pt; position: absolute;'>them</div><div style='top: 36.470588235294116%; left: 24.705882352941178%; font-size: 29pt; position: absolute;'>gon’</div><div style='top: 36.470588235294116%; left: 27.647058823529413%; font-size: 22pt; position: absolute;'>hospitalheliocopters</div><div style='top: 36.470588235294116%; left: 30.58823529411765%; font-size: 29pt; position: absolute;'>refused</div><div style='top: 36.470588235294116%; left: 30.58823529411765%; font-size: 29pt; position: absolute;'>refused</div><div style='top: 36.470588235294116%; left: 36.470588235294116%; font-size: 15pt; position: absolute;'>you</div><div style='top: 36.470588235294116%; left: 39.411764705882355%; font-size: 37pt; position: absolute;'>flew</div><div style='top: 36.470588235294116%; left: 39.411764705882355%; font-size: 37pt; position: absolute;'>flew</div><div style='top: 36.470588235294116%; left: 45.294117647058826%; font-size: 27pt; position: absolute;'>we</div><div style='top: 36.470588235294116%; left: 48.23529411764706%; font-size: 26pt; position: absolute;'>you</div><div style='top: 36.470588235294116%; left: 48.23529411764706%; font-size: 26pt; position: absolute;'>you</div><div style='top: 36.470588235294116%; left: 54.117647058823536%; font-size: 32pt; position: absolute;'>down</div><div style='top: 36.470588235294116%; left: 57.05882352941177%; font-size: 34pt; position: absolute;'>without</div><div style='top: 39.411764705882355%; left: 10.0%; font-size: 30pt; position: absolute;'>turns</div><div style='top: 39.411764705882355%; left: 12.941176470588236%; font-size: 25pt; position: absolute;'>to</div><div style='top: 39.411764705882355%; left: 12.941176470588236%; font-size: 25pt; position: absolute;'>to</div><div style='top: 39.411764705882355%; left: 12.941176470588236%; font-size: 25pt; position: absolute;'>to</div><div style='top: 39.411764705882355%; left: 12.941176470588236%; font-size: 25pt; position: absolute;'>to</div><div style='top: 39.411764705882355%; left: 24.705882352941178%; font-size: 23pt; position: absolute;'>Grace</div><div style='top: 39.411764705882355%; left: 24.705882352941178%; font-size: 23pt; position: absolute;'>Grace</div><div style='top: 39.411764705882355%; left: 30.58823529411765%; font-size: 21pt; position: absolute;'>of</div><div style='top: 39.411764705882355%; left: 33.529411764705884%; font-size: 37pt; position: absolute;'>about</div><div style='top: 39.411764705882355%; left: 33.529411764705884%; font-size: 37pt; position: absolute;'>about</div><div style='top: 39.411764705882355%; left: 33.529411764705884%; font-size: 37pt; position: absolute;'>about</div><div style='top: 39.411764705882355%; left: 42.352941176470594%; font-size: 15pt; position: absolute;'>lived,</div><div style='top: 39.411764705882355%; left: 45.294117647058826%; font-size: 28pt; position: absolute;'>men</div><div style='top: 39.411764705882355%; left: 48.23529411764706%; font-size: 23pt; position: absolute;'>who</div><div style='top: 39.411764705882355%; left: 51.1764705882353%; font-size: 29pt; position: absolute;'>for</div><div style='top: 39.411764705882355%; left: 54.117647058823536%; font-size: 35pt; position: absolute;'>for</div><div style='top: 39.411764705882355%; left: 57.05882352941177%; font-size: 33pt; position: absolute;'>move</div><div style='top: 42.352941176470594%; left: 10.0%; font-size: 28pt; position: absolute;'>dance</div><div style='top: 42.352941176470594%; left: 10.0%; font-size: 28pt; position: absolute;'>dance</div><div style='top: 42.352941176470594%; left: 15.882352941176471%; font-size: 38pt; position: absolute;'>this</div><div style='top: 42.352941176470594%; left: 15.882352941176471%; font-size: 38pt; position: absolute;'>this</div><div style='top: 42.352941176470594%; left: 15.882352941176471%; font-size: 38pt; position: absolute;'>this</div><div style='top: 42.352941176470594%; left: 24.705882352941178%; font-size: 15pt; position: absolute;'>hospital</div><div style='top: 42.352941176470594%; left: 27.647058823529413%; font-size: 21pt; position: absolute;'>to</div><div style='top: 42.352941176470594%; left: 27.647058823529413%; font-size: 21pt; position: absolute;'>to</div><div style='top: 42.352941176470594%; left: 27.647058823529413%; font-size: 21pt; position: absolute;'>to</div><div style='top: 42.352941176470594%; left: 27.647058823529413%; font-size: 21pt; position: absolute;'>to</div><div style='top: 42.352941176470594%; left: 39.411764705882355%; font-size: 37pt; position: absolute;'>from</div><div style='top: 42.352941176470594%; left: 39.411764705882355%; font-size: 37pt; position: absolute;'>from</div><div style='top: 42.352941176470594%; left: 45.294117647058826%; font-size: 32pt; position: absolute;'>they</div><div style='top: 42.352941176470594%; left: 48.23529411764706%; font-size: 19pt; position: absolute;'>you</div><div style='top: 42.352941176470594%; left: 51.1764705882353%; font-size: 34pt; position: absolute;'>here</div><div style='top: 42.352941176470594%; left: 54.117647058823536%; font-size: 28pt; position: absolute;'>gon’</div><div style='top: 42.352941176470594%; left: 57.05882352941177%; font-size: 28pt; position: absolute;'>tear</div><div style='top: 45.294117647058826%; left: 10.0%; font-size: 26pt; position: absolute;'>breathing</div><div style='top: 45.294117647058826%; left: 12.941176470588236%; font-size: 20pt; position: absolute;'>Jesus</div><div style='top: 45.294117647058826%; left: 15.882352941176471%; font-size: 15pt; position: absolute;'>why</div><div style='top: 45.294117647058826%; left: 18.823529411764707%; font-size: 19pt; position: absolute;'>do</div><div style='top: 45.294117647058826%; left: 21.764705882352942%; font-size: 19pt; position: absolute;'>by</div><div style='top: 45.294117647058826%; left: 21.764705882352942%; font-size: 19pt; position: absolute;'>by</div><div style='top: 45.294117647058826%; left: 27.647058823529413%; font-size: 15pt; position: absolute;'>them</div><div style='top: 45.294117647058826%; left: 30.58823529411765%; font-size: 20pt; position: absolute;'>gon’</div><div style='top: 45.294117647058826%; left: 30.58823529411765%; font-size: 20pt; position: absolute;'>gon’</div><div style='top: 45.294117647058826%; left: 36.470588235294116%; font-size: 27pt; position: absolute;'>refused</div><div style='top: 45.294117647058826%; left: 39.411764705882355%; font-size: 32pt; position: absolute;'>ain’t</div><div style='top: 45.294117647058826%; left: 42.352941176470594%; font-size: 30pt; position: absolute;'>you</div><div style='top: 45.294117647058826%; left: 45.294117647058826%; font-size: 20pt; position: absolute;'>flew</div><div style='top: 45.294117647058826%; left: 45.294117647058826%; font-size: 20pt; position: absolute;'>flew</div><div style='top: 45.294117647058826%; left: 51.1764705882353%; font-size: 28pt; position: absolute;'>we</div><div style='top: 45.294117647058826%; left: 51.1764705882353%; font-size: 28pt; position: absolute;'>we</div><div style='top: 45.294117647058826%; left: 51.1764705882353%; font-size: 28pt; position: absolute;'>we</div><div style='top: 48.23529411764706%; left: 10.0%; font-size: 29pt; position: absolute;'>down</div><div style='top: 48.23529411764706%; left: 12.941176470588236%; font-size: 38pt; position: absolute;'>without</div><div style='top: 48.23529411764706%; left: 12.941176470588236%; font-size: 38pt; position: absolute;'>without</div><div style='top: 48.23529411764706%; left: 18.823529411764707%; font-size: 36pt; position: absolute;'>to</div><div style='top: 48.23529411764706%; left: 18.823529411764707%; font-size: 36pt; position: absolute;'>to</div><div style='top: 48.23529411764706%; left: 24.705882352941178%; font-size: 15pt; position: absolute;'>without</div><div style='top: 48.23529411764706%; left: 27.647058823529413%; font-size: 27pt; position: absolute;'>they</div><div style='top: 48.23529411764706%; left: 27.647058823529413%; font-size: 27pt; position: absolute;'>they</div><div style='top: 48.23529411764706%; left: 33.529411764705884%; font-size: 32pt; position: absolute;'>to</div><div style='top: 48.23529411764706%; left: 36.470588235294116%; font-size: 36pt; position: absolute;'>of</div><div style='top: 48.23529411764706%; left: 39.411764705882355%; font-size: 23pt; position: absolute;'>about</div><div style='top: 48.23529411764706%; left: 42.352941176470594%; font-size: 16pt; position: absolute;'>a</div><div style='top: 48.23529411764706%; left: 45.294117647058826%; font-size: 39pt; position: absolute;'>to</div><div style='top: 48.23529411764706%; left: 45.294117647058826%; font-size: 39pt; position: absolute;'>to</div><div style='top: 48.23529411764706%; left: 51.1764705882353%; font-size: 16pt; position: absolute;'>men</div><div style='top: 48.23529411764706%; left: 51.1764705882353%; font-size: 16pt; position: absolute;'>men</div><div style='top: 48.23529411764706%; left: 57.05882352941177%; font-size: 23pt; position: absolute;'>for</div><div style='top: 51.1764705882353%; left: 10.0%; font-size: 17pt; position: absolute;'>for</div><div style='top: 51.1764705882353%; left: 12.941176470588236%; font-size: 36pt; position: absolute;'>move</div><div style='top: 51.1764705882353%; left: 12.941176470588236%; font-size: 36pt; position: absolute;'>move</div><div style='top: 51.1764705882353%; left: 18.823529411764707%; font-size: 25pt; position: absolute;'>up</div><div style='top: 51.1764705882353%; left: 18.823529411764707%; font-size: 25pt; position: absolute;'>up</div><div style='top: 51.1764705882353%; left: 24.705882352941178%; font-size: 34pt; position: absolute;'>never</div><div style='top: 51.1764705882353%; left: 27.647058823529413%; font-size: 32pt; position: absolute;'>you</div><div style='top: 51.1764705882353%; left: 27.647058823529413%; font-size: 32pt; position: absolute;'>you</div><div style='top: 51.1764705882353%; left: 33.529411764705884%; font-size: 32pt; position: absolute;'>to</div><div style='top: 51.1764705882353%; left: 33.529411764705884%; font-size: 32pt; position: absolute;'>to</div><div style='top: 51.1764705882353%; left: 39.411764705882355%; font-size: 38pt; position: absolute;'>the</div><div style='top: 51.1764705882353%; left: 42.352941176470594%; font-size: 33pt; position: absolute;'>was</div><div style='top: 51.1764705882353%; left: 45.294117647058826%; font-size: 28pt; position: absolute;'>from</div><div style='top: 51.1764705882353%; left: 48.23529411764706%; font-size: 23pt; position: absolute;'>watch</div><div style='top: 51.1764705882353%; left: 51.1764705882353%; font-size: 19pt; position: absolute;'>they</div><div style='top: 51.1764705882353%; left: 54.117647058823536%; font-size: 32pt; position: absolute;'>you</div><div style='top: 51.1764705882353%; left: 57.05882352941177%; font-size: 19pt; position: absolute;'>here</div><div style='top: 51.1764705882353%; left: 57.05882352941177%; font-size: 19pt; position: absolute;'>here</div><div style='top: 51.1764705882353%; left: 57.05882352941177%; font-size: 19pt; position: absolute;'>here</div><div style='top: 54.117647058823536%; left: 15.882352941176471%; font-size: 28pt; position: absolute;'>breathing</div><div style='top: 54.117647058823536%; left: 15.882352941176471%; font-size: 28pt; position: absolute;'>breathing</div><div style='top: 54.117647058823536%; left: 21.764705882352942%; font-size: 33pt; position: absolute;'>why</div><div style='top: 54.117647058823536%; left: 24.705882352941178%; font-size: 16pt; position: absolute;'>do</div><div style='top: 54.117647058823536%; left: 24.705882352941178%; font-size: 16pt; position: absolute;'>do</div><div style='top: 54.117647058823536%; left: 30.58823529411765%; font-size: 18pt; position: absolute;'>in</div><div style='top: 54.117647058823536%; left: 33.529411764705884%; font-size: 19pt; position: absolute;'>them</div><div style='top: 54.117647058823536%; left: 36.470588235294116%; font-size: 39pt; position: absolute;'>gon’</div><div style='top: 54.117647058823536%; left: 36.470588235294116%; font-size: 39pt; position: absolute;'>gon’</div><div style='top: 54.117647058823536%; left: 42.352941176470594%; font-size: 23pt; position: absolute;'>refused</div><div style='top: 54.117647058823536%; left: 45.294117647058826%; font-size: 18pt; position: absolute;'>ain’t</div><div style='top: 54.117647058823536%; left: 48.23529411764706%; font-size: 35pt; position: absolute;'>you</div><div style='top: 54.117647058823536%; left: 48.23529411764706%; font-size: 35pt; position: absolute;'>you</div><div style='top: 54.117647058823536%; left: 54.117647058823536%; font-size: 16pt; position: absolute;'>them</div><div style='top: 54.117647058823536%; left: 57.05882352941177%; font-size: 31pt; position: absolute;'>we</div><div style='top: 57.05882352941177%; left: 10.0%; font-size: 25pt; position: absolute;'>you</div><div style='top: 57.05882352941177%; left: 10.0%; font-size: 25pt; position: absolute;'>you</div><div style='top: 57.05882352941177%; left: 15.882352941176471%; font-size: 34pt; position: absolute;'>down</div><div style='top: 57.05882352941177%; left: 15.882352941176471%; font-size: 34pt; position: absolute;'>down</div><div style='top: 57.05882352941177%; left: 15.882352941176471%; font-size: 34pt; position: absolute;'>down</div><div style='top: 57.05882352941177%; left: 15.882352941176471%; font-size: 34pt; position: absolute;'>down</div><div style='top: 57.05882352941177%; left: 27.647058823529413%; font-size: 25pt; position: absolute;'>street,</div><div style='top: 57.05882352941177%; left: 27.647058823529413%; font-size: 25pt; position: absolute;'>street,</div><div style='top: 57.05882352941177%; left: 33.529411764705884%; font-size: 38pt; position: absolute;'>they</div><div style='top: 57.05882352941177%; left: 33.529411764705884%; font-size: 38pt; position: absolute;'>they</div><div style='top: 57.05882352941177%; left: 39.411764705882355%; font-size: 30pt; position: absolute;'>to</div><div style='top: 57.05882352941177%; left: 42.352941176470594%; font-size: 21pt; position: absolute;'>of</div><div style='top: 57.05882352941177%; left: 45.294117647058826%; font-size: 21pt; position: absolute;'>about</div><div style='top: 57.05882352941177%; left: 48.23529411764706%; font-size: 38pt; position: absolute;'>a</div><div style='top: 57.05882352941177%; left: 48.23529411764706%; font-size: 38pt; position: absolute;'>a</div><div style='top: 57.05882352941177%; left: 48.23529411764706%; font-size: 38pt; position: absolute;'>a</div><div style='top: 57.05882352941177%; left: 48.23529411764706%; font-size: 38pt; position: absolute;'>a</div>\n",
       "</body>\n",
       "</html>"
      ],
      "text/plain": [
       "<IPython.core.display.HTML object>"
      ]
     },
     "metadata": {
      "isolated": true
     },
     "output_type": "display_data"
    }
   ],
   "source": [
    "src = random_poem * random.randrange(1,10)\n",
    "words = src.split()\n",
    "grid_size = int(math.sqrt(len(words)))\n",
    "current_index = 0\n",
    "divs = []\n",
    "for i in range(grid_size):\n",
    "    for j in range(grid_size):\n",
    "        x_pos = 10 + (50 / grid_size) * i\n",
    "        y_pos = 10 + (50 / grid_size) * j\n",
    "        if random.random() < 0.67:\n",
    "            this_div = mkdiv(words[current_index],\n",
    "                         top=f\"{x_pos}%\",\n",
    "                         left=f\"{y_pos}%\",\n",
    "                         font_size=f\"{random.randrange(12,40)}pt\",)\n",
    "        divs.append(this_div)\n",
    "        current_index += 1\n",
    "html_src = html_tmpl.format(title=\"what if lucille clifton and fred moten co-wrote a poem entitled: slave/salve ship grid?\", content=\"\".join(divs))\n",
    "show_html(html_src)"
   ]
  },
  {
   "cell_type": "markdown",
   "metadata": {},
   "source": [
    "# save html to a file"
   ]
  },
  {
   "cell_type": "code",
   "execution_count": 138,
   "metadata": {},
   "outputs": [
    {
     "data": {
      "text/plain": [
       "32334"
      ]
     },
     "execution_count": 138,
     "metadata": {},
     "output_type": "execute_result"
    }
   ],
   "source": [
    "open(\"index.html\", \"w\").write(html_src)"
   ]
  },
  {
   "cell_type": "code",
   "execution_count": 139,
   "metadata": {},
   "outputs": [],
   "source": [
    "!open index.html"
   ]
  }
 ],
 "metadata": {
  "kernelspec": {
   "display_name": "Python 3",
   "language": "python",
   "name": "python3"
  },
  "language_info": {
   "codemirror_mode": {
    "name": "ipython",
    "version": 3
   },
   "file_extension": ".py",
   "mimetype": "text/x-python",
   "name": "python",
   "nbconvert_exporter": "python",
   "pygments_lexer": "ipython3",
   "version": "3.7.4"
  }
 },
 "nbformat": 4,
 "nbformat_minor": 2
}
