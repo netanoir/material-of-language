{
 "cells": [
  {
   "cell_type": "markdown",
   "metadata": {},
   "source": [
    "# poetry in isolation"
   ]
  },
  {
   "cell_type": "markdown",
   "metadata": {},
   "source": [
    "import necessary libraries"
   ]
  },
  {
   "cell_type": "code",
   "execution_count": 15,
   "metadata": {},
   "outputs": [],
   "source": [
    "import random\n",
    "import math"
   ]
  },
  {
   "cell_type": "code",
   "execution_count": 16,
   "metadata": {},
   "outputs": [],
   "source": [
    "# flat library deets\n",
    "from flat import document, rgb, rgba, font, strike, shape\n",
    "from flat.command import moveto, quadto, curveto, lineto, closepath\n",
    "from bezmerizing import Polyline, Path\n",
    "import numpy as np\n",
    "from copy import copy"
   ]
  },
  {
   "cell_type": "code",
   "execution_count": 17,
   "metadata": {},
   "outputs": [],
   "source": [
    "# helps display flat drawings inline\n",
    "from IPython.display import SVG, display\n",
    "def show(page):\n",
    "    display(SVG(page.svg()))"
   ]
  },
  {
   "cell_type": "markdown",
   "metadata": {},
   "source": [
    "two fxns to help get path commands & advance for a character "
   ]
  },
  {
   "cell_type": "code",
   "execution_count": 18,
   "metadata": {},
   "outputs": [],
   "source": [
    "def glyphcommands(f, ch):\n",
    "    return Path([copy(cmd) for cmd in f.glyph(f.charmap[ord(ch)])])\n",
    "def advancefor(f, ch):\n",
    "    return f.advances[f.charmap[ord(ch)]]"
   ]
  },
  {
   "cell_type": "markdown",
   "metadata": {},
   "source": [
    "another fxn to help modify x & y coordinates of path"
   ]
  },
  {
   "cell_type": "code",
   "execution_count": 19,
   "metadata": {},
   "outputs": [],
   "source": [
    "def nudge(cmd, x, y):\n",
    "    c = copy(cmd)\n",
    "    if type(cmd) in (moveto, lineto, quadto, curveto):\n",
    "        c.x += x\n",
    "        c.y += y\n",
    "    if type(cmd) in (quadto, curveto):\n",
    "        c.x1 += x\n",
    "        c.y1 += y\n",
    "    if type(cmd) == curveto:\n",
    "        c.x2 += x\n",
    "        c.y2 += y\n",
    "    return c"
   ]
  },
  {
   "cell_type": "markdown",
   "metadata": {},
   "source": [
    "define our special font"
   ]
  },
  {
   "cell_type": "code",
   "execution_count": 20,
   "metadata": {},
   "outputs": [],
   "source": [
    "f = font.open(\"./ArchivoBlack-Regular.ttf\")"
   ]
  },
  {
   "cell_type": "markdown",
   "metadata": {},
   "source": [
    "load in a lonely poem"
   ]
  },
  {
   "cell_type": "code",
   "execution_count": 21,
   "metadata": {},
   "outputs": [
    {
     "name": "stdout",
     "output_type": "stream",
     "text": [
      "the day is long\n",
      "as heartbreak is inevitable\n",
      "never sure when it will start\n",
      "or when it will end\n",
      "until the night comes\n",
      "and i find another imaginary friend\n",
      "to spend my lonely days with\n",
      "until it has to end\n"
     ]
    }
   ],
   "source": [
    "lonely_poem = open(\"lonely-poem.txt\").read()\n",
    "print(lonely_poem)"
   ]
  },
  {
   "cell_type": "code",
   "execution_count": 36,
   "metadata": {
    "scrolled": true
   },
   "outputs": [
    {
     "name": "stdout",
     "output_type": "stream",
     "text": [
      "first: the day is long\n",
      "random: until the night comes\n"
     ]
    }
   ],
   "source": [
    "# create segments of text to play with\n",
    "lonely_sentences = lonely_poem.split('\\n')\n",
    "first_lonely_sentence = lonely_sentences[0]\n",
    "random_lonely_sentence = lonely_sentences[random.randrange(0,7)]\n",
    "\n",
    "print(\"first: \" + first_lonely_sentence)\n",
    "print(\"random: \" + random_lonely_sentence)"
   ]
  },
  {
   "cell_type": "markdown",
   "metadata": {},
   "source": [
    "## draw a sentence of a lonely poem one character at a time"
   ]
  },
  {
   "cell_type": "code",
   "execution_count": 37,
   "metadata": {},
   "outputs": [],
   "source": [
    "s = first_lonely_sentence"
   ]
  },
  {
   "cell_type": "code",
   "execution_count": 40,
   "metadata": {},
   "outputs": [
    {
     "data": {
      "image/svg+xml": [
       "<svg height=\"90pt\" version=\"1.1\" width=\"300pt\" xmlns=\"http://www.w3.org/2000/svg\" xmlns:xlink=\"http://www.w3.org/1999/xlink\">\n",
       "<title>Untitled</title>\n",
       "<path d=\"M10.8,40.992 L14.832,40.992 L14.832,45.852 L10.8,45.852 L10.8,53.088 Q10.8,54.384,11.232,54.978 Q11.664,55.572,12.816,55.572 L14.832,55.572 L14.832,59.784 Q13.968,60.072,12.6,60.252 Q11.232,60.432,10.224,60.432 Q7.056,60.432,5.346,59.28 Q3.636,58.128,3.636,55.356 L3.636,45.852 L0.972,45.852 L0.972,40.992 L3.924,40.992 L5.472,35.232 L10.8,35.232 L10.8,40.992 z\" fill=\"rgba(0,0,0,0.502)\" stroke=\"rgba(0,0,0,1)\" stroke-miterlimit=\"10\"/>\n",
       "<path d=\"M25.308,42.972 Q26.46,41.82,28.008,41.19 Q29.556,40.56,31.248,40.56 Q34.56,40.56,36.216,42.396 Q37.872,44.232,37.872,47.688 L37.872,60 L30.708,60 L30.708,48.552 Q30.708,47.328,30.078,46.59 Q29.448,45.852,28.296,45.852 Q26.964,45.852,26.136,46.716 Q25.308,47.58,25.308,48.84 L25.308,60 L18.144,60 L18.144,33.9 L25.308,33.9 L25.308,42.972 z\" fill=\"rgba(0,0,0,0.502)\" stroke=\"rgba(0,0,0,1)\" stroke-miterlimit=\"10\"/>\n",
       "<path d=\"M51.984,40.56 Q57.204,40.56,59.958,43.008 Q62.712,45.456,62.712,50.496 L62.712,51.72 L48.456,51.72 Q48.456,53.772,49.374,54.816 Q50.292,55.86,52.272,55.86 Q54.072,55.86,54.918,55.104 Q55.764,54.348,55.764,53.088 L62.712,53.088 Q62.712,56.544,60.084,58.488 Q57.456,60.432,52.416,60.432 Q47.124,60.432,44.208,57.966 Q41.292,55.5,41.292,50.496 Q41.292,45.6,44.136,43.08 Q46.98,40.56,51.984,40.56 z M52.272,45.132 Q48.888,45.132,48.492,48.336 L55.476,48.336 Q55.476,46.86,54.63,45.996 Q53.784,45.132,52.272,45.132 z\" fill=\"rgba(0,0,0,0.502)\" stroke=\"rgba(0,0,0,1)\" stroke-miterlimit=\"10\"/>\n",
       "<path d=\"\" fill=\"rgba(0,0,0,0.502)\" stroke=\"rgba(0,0,0,1)\" stroke-miterlimit=\"10\"/>\n",
       "<path d=\"M97.812,60 L91.98,60 L91.368,57.3 Q89.28,60.432,85.32,60.432 Q81.468,60.432,79.38,57.912 Q77.292,55.392,77.292,50.46 Q77.292,45.564,79.38,43.062 Q81.468,40.56,85.32,40.56 Q88.596,40.56,90.648,42.756 L90.648,33.9 L97.812,33.9 L97.812,60 z M87.552,45.852 Q84.456,45.852,84.456,49.56 L84.456,51.468 Q84.456,55.14,87.552,55.14 Q89.136,55.14,89.928,54.024 Q90.72,52.908,90.72,51.108 L90.72,49.92 Q90.72,48.12,89.928,46.986 Q89.136,45.852,87.552,45.852 z\" fill=\"rgba(0,0,0,0.502)\" stroke=\"rgba(0,0,0,1)\" stroke-miterlimit=\"10\"/>\n",
       "<path d=\"M111.564,40.56 Q115.92,40.56,118.656,42.018 Q121.392,43.476,121.392,46.752 L121.392,54.168 Q121.392,54.78,121.68,55.176 Q121.968,55.572,122.544,55.572 L123.84,55.572 L123.84,59.712 Q123.732,59.784,123.282,59.946 Q122.832,60.108,122.004,60.27 Q121.176,60.432,120.096,60.432 Q118.008,60.432,116.658,59.802 Q115.308,59.172,114.804,58.056 Q113.436,59.136,111.744,59.784 Q110.052,60.432,107.784,60.432 Q101.088,60.432,101.088,55.104 Q101.088,52.332,102.582,50.874 Q104.076,49.416,106.884,48.876 Q109.692,48.336,114.228,48.336 L114.228,47.4 Q114.228,46.284,113.454,45.708 Q112.68,45.132,111.456,45.132 Q110.34,45.132,109.53,45.528 Q108.72,45.924,108.72,46.788 L108.72,46.932 L101.664,46.932 Q101.628,46.752,101.628,46.428 Q101.628,43.728,104.202,42.144 Q106.776,40.56,111.564,40.56 z M114.228,51.72 Q111.168,51.72,109.71,52.386 Q108.252,53.052,108.252,54.168 Q108.252,55.968,110.7,55.968 Q112.104,55.968,113.166,55.212 Q114.228,54.456,114.228,53.34 L114.228,51.72 z\" fill=\"rgba(0,0,0,0.502)\" stroke=\"rgba(0,0,0,1)\" stroke-miterlimit=\"10\"/>\n",
       "<path d=\"M139.248,59.424 Q137.772,63.42,135.63,65.49 Q133.488,67.56,129.636,67.56 Q127.296,67.56,125.496,66.912 L125.496,62.628 L128.376,62.628 Q131.076,62.628,131.58,60 L124.02,40.992 L131.724,40.992 L135.36,53.628 L135.612,53.628 L138.96,40.992 L146.016,40.992 L139.248,59.424 z\" fill=\"rgba(0,0,0,0.502)\" stroke=\"rgba(0,0,0,1)\" stroke-miterlimit=\"10\"/>\n",
       "<path d=\"\" fill=\"rgba(0,0,0,0.502)\" stroke=\"rgba(0,0,0,1)\" stroke-miterlimit=\"10\"/>\n",
       "<path d=\"M167.58,38.76 L160.416,38.76 L160.416,33.9 L167.58,33.9 L167.58,38.76 z M167.58,60 L160.416,60 L160.416,40.992 L167.58,40.992 L167.58,60 z\" fill=\"rgba(0,0,0,0.502)\" stroke=\"rgba(0,0,0,1)\" stroke-miterlimit=\"10\"/>\n",
       "<path d=\"M181.188,40.56 Q185.004,40.56,187.65,42.054 Q190.296,43.548,190.296,46.68 L183.636,46.68 Q183.636,45.636,182.7,45.204 Q182.052,44.844,181.08,44.844 Q178.488,44.844,178.488,46.068 Q178.488,46.752,179.388,47.04 Q180.288,47.328,182.34,47.652 Q184.86,48.012,186.552,48.498 Q188.244,48.984,189.504,50.226 Q190.764,51.468,190.764,53.7 Q190.764,57.336,188.046,58.884 Q185.328,60.432,180.936,60.432 Q178.416,60.432,176.184,59.73 Q173.952,59.028,172.548,57.552 Q171.144,56.076,171.144,53.808 L177.804,53.808 L177.804,53.952 Q177.84,55.176,178.83,55.662 Q179.82,56.148,180.936,56.148 Q183.924,56.148,183.924,54.744 Q183.924,54.024,182.988,53.7 Q182.052,53.376,179.928,53.016 Q177.372,52.584,175.734,52.08 Q174.096,51.576,172.872,50.37 Q171.648,49.164,171.648,47.004 Q171.648,43.512,174.294,42.036 Q176.94,40.56,181.188,40.56 z\" fill=\"rgba(0,0,0,0.502)\" stroke=\"rgba(0,0,0,1)\" stroke-miterlimit=\"10\"/>\n",
       "<path d=\"\" fill=\"rgba(0,0,0,0.502)\" stroke=\"rgba(0,0,0,1)\" stroke-miterlimit=\"10\"/>\n",
       "<path d=\"M213.552,60 L206.388,60 L206.388,33.9 L213.552,33.9 L213.552,60 z\" fill=\"rgba(0,0,0,0.502)\" stroke=\"rgba(0,0,0,1)\" stroke-miterlimit=\"10\"/>\n",
       "<path d=\"M227.952,40.56 Q232.956,40.56,235.818,43.098 Q238.68,45.636,238.68,50.496 Q238.68,55.356,235.818,57.894 Q232.956,60.432,227.952,60.432 Q222.948,60.432,220.104,57.912 Q217.26,55.392,217.26,50.496 Q217.26,45.6,220.104,43.08 Q222.948,40.56,227.952,40.56 z M227.952,45.42 Q224.424,45.42,224.424,49.488 L224.424,51.54 Q224.424,55.572,227.952,55.572 Q231.516,55.572,231.516,51.54 L231.516,49.488 Q231.516,45.42,227.952,45.42 z\" fill=\"rgba(0,0,0,0.502)\" stroke=\"rgba(0,0,0,1)\" stroke-miterlimit=\"10\"/>\n",
       "<path d=\"M255.24,40.56 Q258.552,40.56,260.208,42.396 Q261.864,44.232,261.864,47.688 L261.864,60 L254.7,60 L254.7,48.552 Q254.7,47.328,254.07,46.59 Q253.44,45.852,252.288,45.852 Q250.956,45.852,250.128,46.716 Q249.3,47.58,249.3,48.84 L249.3,60 L242.136,60 L242.136,40.992 L248.004,40.992 L248.472,43.872 Q249.588,42.36,251.406,41.46 Q253.224,40.56,255.24,40.56 z\" fill=\"rgba(0,0,0,0.502)\" stroke=\"rgba(0,0,0,1)\" stroke-miterlimit=\"10\"/>\n",
       "<path d=\"M287.532,37.428 Q287.532,39.624,286.434,40.812 Q285.336,42,283.14,42.576 Q284.184,43.368,284.778,44.43 Q285.372,45.492,285.372,46.68 Q285.372,49.704,283.086,51.252 Q280.8,52.8,277.38,52.8 L274.644,52.8 Q272.376,52.8,272.376,53.844 Q272.376,54.348,272.88,54.654 Q273.384,54.96,274.644,54.96 L281.124,54.96 Q284.292,54.96,285.912,56.616 Q287.532,58.272,287.532,61.044 Q287.532,63.096,286.452,64.572 Q285.372,66.048,283.536,66.804 Q281.7,67.56,279.54,67.56 L268.956,67.56 Q267.66,67.56,266.562,66.948 Q265.464,66.336,264.816,65.274 Q264.168,64.212,264.168,62.916 Q264.168,61.512,265.032,60.378 Q265.896,59.244,267.192,58.668 Q266.328,58.056,265.824,57.192 Q265.32,56.328,265.32,55.32 Q265.32,53.916,266.364,52.782 Q267.408,51.648,268.956,51.252 Q267.552,50.352,266.724,49.182 Q265.896,48.012,265.896,46.716 Q265.896,43.404,268.578,41.982 Q271.26,40.56,275.688,40.56 Q277.632,40.56,278.82,40.776 Q280.584,39.66,281.106,38.742 Q281.628,37.824,281.628,37.428 L287.532,37.428 z M275.616,44.304 Q274.428,44.304,273.672,44.916 Q272.916,45.528,272.916,46.68 Q272.916,47.868,273.618,48.462 Q274.32,49.056,275.616,49.056 Q276.912,49.056,277.65,48.462 Q278.388,47.868,278.388,46.68 Q278.388,45.492,277.65,44.898 Q276.912,44.304,275.616,44.304 z M272.844,60 Q272.016,60,271.494,60.45 Q270.972,60.9,270.972,61.728 Q270.972,62.556,271.512,63.06 Q272.052,63.564,272.844,63.564 L278.46,63.564 Q279.252,63.564,279.81,63.078 Q280.368,62.592,280.368,61.764 Q280.368,60.936,279.828,60.468 Q279.288,60,278.46,60 L272.844,60 z\" fill=\"rgba(0,0,0,0.502)\" stroke=\"rgba(0,0,0,1)\" stroke-miterlimit=\"10\"/>\n",
       "</svg>"
      ],
      "text/plain": [
       "<IPython.core.display.SVG object>"
      ]
     },
     "metadata": {},
     "output_type": "display_data"
    }
   ],
   "source": [
    "page = document(300, 90, 'pt').addpage()\n",
    "pen = shape().stroke(rgba(0, 0, 0, 255)).fill(rgba(0, 0, 0, 128))\n",
    "factor = 36 / f.density\n",
    "cx = 0\n",
    "for ch in s:\n",
    "    glyph_path = glyphcommands(f, ch).scale(factor).translate(cx, 60)\n",
    "    page.place(pen.path(glyph_path))\n",
    "    cx += advancefor(f, ch) * factor\n",
    "show(page)"
   ]
  },
  {
   "cell_type": "markdown",
   "metadata": {},
   "source": [
    "play with the letters...with conditions"
   ]
  },
  {
   "cell_type": "code",
   "execution_count": 41,
   "metadata": {},
   "outputs": [
    {
     "ename": "NameError",
     "evalue": "name 'uniform' is not defined",
     "output_type": "error",
     "traceback": [
      "\u001b[0;31m---------------------------------------------------------------------------\u001b[0m",
      "\u001b[0;31mNameError\u001b[0m                                 Traceback (most recent call last)",
      "\u001b[0;32m<ipython-input-41-310a7492ccc4>\u001b[0m in \u001b[0;36m<module>\u001b[0;34m\u001b[0m\n\u001b[1;32m      5\u001b[0m \u001b[0;32mfor\u001b[0m \u001b[0mch\u001b[0m \u001b[0;32min\u001b[0m \u001b[0ms\u001b[0m\u001b[0;34m:\u001b[0m\u001b[0;34m\u001b[0m\u001b[0;34m\u001b[0m\u001b[0m\n\u001b[1;32m      6\u001b[0m     glyph_path = (glyphcommands(f, ch)\n\u001b[0;32m----> 7\u001b[0;31m                   \u001b[0;34m.\u001b[0m\u001b[0mscale\u001b[0m\u001b[0;34m(\u001b[0m\u001b[0mfactor\u001b[0m \u001b[0;34m*\u001b[0m \u001b[0muniform\u001b[0m\u001b[0;34m(\u001b[0m\u001b[0;36m0.75\u001b[0m\u001b[0;34m,\u001b[0m \u001b[0;36m1.5\u001b[0m\u001b[0;34m)\u001b[0m\u001b[0;34m)\u001b[0m\u001b[0;34m\u001b[0m\u001b[0;34m\u001b[0m\u001b[0m\n\u001b[0m\u001b[1;32m      8\u001b[0m                   .translate(cx + normal(0, 4), 60 + normal(0, 4)))\n\u001b[1;32m      9\u001b[0m     \u001b[0mpage\u001b[0m\u001b[0;34m.\u001b[0m\u001b[0mplace\u001b[0m\u001b[0;34m(\u001b[0m\u001b[0mpen\u001b[0m\u001b[0;34m.\u001b[0m\u001b[0mpath\u001b[0m\u001b[0;34m(\u001b[0m\u001b[0mglyph_path\u001b[0m\u001b[0;34m)\u001b[0m\u001b[0;34m)\u001b[0m\u001b[0;34m\u001b[0m\u001b[0;34m\u001b[0m\u001b[0m\n",
      "\u001b[0;31mNameError\u001b[0m: name 'uniform' is not defined"
     ]
    }
   ],
   "source": [
    "page = document(300, 90, 'pt').addpage()\n",
    "pen = shape().stroke(rgba(0, 0, 0, 255)).fill(rgba(0, 0, 0, 128))\n",
    "factor = 36 / f.density\n",
    "cx = 0\n",
    "for ch in s:\n",
    "    glyph_path = (glyphcommands(f, ch)\n",
    "                  .scale(factor * uniform(0.75, 1.5))\n",
    "                  .translate(cx + normal(0, 4), 60 + normal(0, 4)))\n",
    "    page.place(pen.path(glyph_path))\n",
    "    cx += advancefor(f, ch) * factor\n",
    "show(page)"
   ]
  },
  {
   "cell_type": "code",
   "execution_count": null,
   "metadata": {},
   "outputs": [],
   "source": []
  },
  {
   "cell_type": "markdown",
   "metadata": {},
   "source": [
    "stretch first & last letter"
   ]
  },
  {
   "cell_type": "code",
   "execution_count": 30,
   "metadata": {},
   "outputs": [
    {
     "name": "stdout",
     "output_type": "stream",
     "text": [
      "g\n"
     ]
    }
   ],
   "source": [
    "# for c in s:\n",
    "#     last = -1\n",
    "#     if c == last:\n",
    "        \n",
    "    "
   ]
  },
  {
   "cell_type": "code",
   "execution_count": 31,
   "metadata": {},
   "outputs": [],
   "source": [
    "# part 1 stretch a character\n",
    "a_path_orig = glyphcommands(f, first_lonely_sentence[-1])\n",
    "a_path_cmds = []\n",
    "for cmd in a_path_orig:\n",
    "    if hasattr(cmd, 'x'):\n",
    "        a_path_cmds.append(nudge(cmd, x=cmd.x*0.8, y=0))\n",
    "    else:\n",
    "        a_path_cmds.append(cmd)\n",
    "a_path_mod = Path(a_path_cmds)\n",
    "        "
   ]
  },
  {
   "cell_type": "code",
   "execution_count": 33,
   "metadata": {},
   "outputs": [
    {
     "data": {
      "image/svg+xml": [
       "<svg height=\"144pt\" version=\"1.1\" width=\"288pt\" xmlns=\"http://www.w3.org/2000/svg\" xmlns:xlink=\"http://www.w3.org/1999/xlink\">\n",
       "<title>Untitled</title>\n",
       "<path d=\"M313.5168,53.712 Q310.0032,62.496,305.6112,67.248 Q290.6784,72,281.8944,74.304 Q291.312,77.472,293.688,81.72 Q297.9648,85.968,297.9648,90.72 Q290.6496,102.816,281.5056,109.008 Q254.1024,115.2,240.4224,115.2 L220.7232,115.2 Q204.3936,115.2,204.3936,119.376 Q206.0064,121.392,208.0224,122.616 Q215.6832,123.84,220.7232,123.84 L267.3792,123.84 Q295.3728,123.84,301.8528,130.464 Q313.5168,137.088,313.5168,148.176 Q310.0608,156.384,305.7408,162.288 Q292.0896,168.192,284.7456,171.216 Q264.6144,174.24,255.9744,174.24 L179.7696,174.24 Q166.9248,174.24,162.5328,171.792 Q152.5536,169.344,149.9616,165.096 Q145.296,160.848,145.296,155.664 Q148.0608,150.048,151.5168,145.512 Q161.8848,140.976,167.0688,138.672 Q159.2352,136.224,157.2192,132.768 Q153.5904,129.312,153.5904,125.28 Q156.9312,119.664,161.1072,115.128 Q173.5776,110.592,179.7696,109.008 Q167.0112,105.408,163.6992,100.728 Q157.7376,96.048,157.7376,90.864 Q166.32,77.616,177.048,71.928 Q210.528,66.24,228.24,66.24 Q246.0384,66.24,250.7904,67.104 Q265.1616,62.64,267.2496,58.968 Q271.008,55.296,271.008,53.712 L313.5168,53.712 z M227.7216,81.216 Q216.7488,81.216,213.7248,83.664 Q208.2816,86.112,208.2816,90.72 Q210.528,95.472,213.336,97.848 Q222.5376,100.224,227.7216,100.224 Q239.4144,100.224,242.3664,97.848 Q247.68,95.472,247.68,90.72 Q245.3184,85.968,242.3664,83.592 Q232.9056,81.216,227.7216,81.216 z M207.7632,144 Q200.1312,144,198.0432,145.8 Q194.2848,147.6,194.2848,150.912 Q196.0128,154.224,198.1728,156.24 Q204.5952,158.256,207.7632,158.256 L248.1984,158.256 Q255.6864,158.256,257.9184,156.312 Q261.936,154.368,261.936,151.056 Q260.208,147.744,258.048,145.872 Q251.5104,144,248.1984,144 L207.7632,144 z\" fill=\"rgb(240,240,240)\" stroke=\"rgb(40,40,40)\" stroke-miterlimit=\"10\"/>\n",
       "</svg>"
      ],
      "text/plain": [
       "<IPython.core.display.SVG object>"
      ]
     },
     "metadata": {},
     "output_type": "display_data"
    }
   ],
   "source": [
    "# part 2 display a stretched character\n",
    "page = document(288, 144, 'pt').addpage()\n",
    "pen = shape().stroke(rgb(40, 40, 40)).fill(rgb(240, 240, 240))\n",
    "# page.place(pen.path(a_path_orig.scale(144/f.density).translate(0, 144)))\n",
    "page.place(pen.path(a_path_mod.scale(144/f.density).translate(144, 144)))\n",
    "show(page)"
   ]
  },
  {
   "cell_type": "code",
   "execution_count": null,
   "metadata": {},
   "outputs": [],
   "source": []
  }
 ],
 "metadata": {
  "kernelspec": {
   "display_name": "Python 3",
   "language": "python",
   "name": "python3"
  },
  "language_info": {
   "codemirror_mode": {
    "name": "ipython",
    "version": 3
   },
   "file_extension": ".py",
   "mimetype": "text/x-python",
   "name": "python",
   "nbconvert_exporter": "python",
   "pygments_lexer": "ipython3",
   "version": "3.7.4"
  }
 },
 "nbformat": 4,
 "nbformat_minor": 2
}
